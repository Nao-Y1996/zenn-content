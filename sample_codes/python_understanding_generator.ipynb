{
 "cells": [
  {
   "cell_type": "markdown",
   "metadata": {},
   "source": [
    "## generatorの基本"
   ]
  },
  {
   "cell_type": "code",
   "execution_count": 1,
   "metadata": {},
   "outputs": [],
   "source": [
    "def three_sequence():\n",
    "    yield 0\n",
    "    yield 1\n",
    "    yield 2"
   ]
  },
  {
   "cell_type": "code",
   "execution_count": 3,
   "metadata": {},
   "outputs": [
    {
     "name": "stdout",
     "output_type": "stream",
     "text": [
      "0\n",
      "1\n",
      "2\n"
     ]
    }
   ],
   "source": [
    "gen = three_sequence() \n",
    "\n",
    "print(next(gen))  # >> 0\n",
    "print(next(gen))  # >> 1\n",
    "print(next(gen))  # >> 2"
   ]
  },
  {
   "cell_type": "code",
   "execution_count": 4,
   "metadata": {},
   "outputs": [
    {
     "ename": "StopIteration",
     "evalue": "",
     "output_type": "error",
     "traceback": [
      "\u001b[0;31m---------------------------------------------------------------------------\u001b[0m",
      "\u001b[0;31mStopIteration\u001b[0m                             Traceback (most recent call last)",
      "Cell \u001b[0;32mIn[4], line 1\u001b[0m\n\u001b[0;32m----> 1\u001b[0m \u001b[38;5;28mprint\u001b[39m(\u001b[38;5;28;43mnext\u001b[39;49m\u001b[43m(\u001b[49m\u001b[43mgen\u001b[49m\u001b[43m)\u001b[49m)  \u001b[38;5;66;03m# >> StopIteration\u001b[39;00m\n",
      "\u001b[0;31mStopIteration\u001b[0m: "
     ]
    }
   ],
   "source": [
    "print(next(gen))  # >> StopIteration"
   ]
  },
  {
   "cell_type": "markdown",
   "metadata": {},
   "source": [
    "## generatorで無限に値を返す"
   ]
  },
  {
   "cell_type": "code",
   "execution_count": 5,
   "metadata": {},
   "outputs": [],
   "source": [
    "def infinite_sequence():\n",
    "    num = 0\n",
    "    while True:\n",
    "        print(f\"\\t In generator before yield: {num}\")\n",
    "        yield num\n",
    "        print(f\"\\t In generator after yield: {num}\")\n",
    "        num += 1"
   ]
  },
  {
   "cell_type": "code",
   "execution_count": 6,
   "metadata": {},
   "outputs": [
    {
     "name": "stdout",
     "output_type": "stream",
     "text": [
      "next(gen)0:\n",
      "\t In generator before yield: 0\n",
      "out: 0\n",
      "\n",
      "next(gen)1:\n",
      "\t In generator after yield: 0\n",
      "\t In generator before yield: 1\n",
      "out: 1\n",
      "\n",
      "next(gen)2:\n",
      "\t In generator after yield: 1\n",
      "\t In generator before yield: 2\n",
      "out: 2\n",
      "\n"
     ]
    }
   ],
   "source": [
    "gen = infinite_sequence()\n",
    "\n",
    "print(\"next(gen)0:\")\n",
    "out = next(gen)\n",
    "print(f\"out: {out}\")\n",
    "print()\n",
    "\n",
    "print(\"next(gen)1:\")\n",
    "out = next(gen)\n",
    "print(f\"out: {out}\")\n",
    "print()\n",
    "\n",
    "print(\"next(gen)2:\")\n",
    "out = next(gen)\n",
    "print(f\"out: {out}\")\n",
    "print()"
   ]
  }
 ],
 "metadata": {
  "kernelspec": {
   "display_name": ".venv",
   "language": "python",
   "name": "python3"
  },
  "language_info": {
   "codemirror_mode": {
    "name": "ipython",
    "version": 3
   },
   "file_extension": ".py",
   "mimetype": "text/x-python",
   "name": "python",
   "nbconvert_exporter": "python",
   "pygments_lexer": "ipython3",
   "version": "3.11.6"
  }
 },
 "nbformat": 4,
 "nbformat_minor": 2
}
